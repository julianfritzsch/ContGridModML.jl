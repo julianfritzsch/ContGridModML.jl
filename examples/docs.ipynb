{
  "cells": [
    {
      "cell_type": "code",
      "metadata": {
        "jukit_cell_id": "07s2sdIBkZ"
      },
      "source": [
        "using ContGridModML\n",
        "using ContGridMod\n",
        "using CairoMakie\n",
        "using Statistics\n",
        "using Printf\n",
        "using LaTeXStrings"
      ],
      "outputs": [],
      "execution_count": null
    },
    {
      "cell_type": "markdown",
      "metadata": {
        "jukit_cell_id": "gftabiP8jA"
      },
      "source": [
        "This will learn the susceptances from the stable solutions of 48 different dispatches.\n",
        "The test set performance is calculated on 12 different dispatches.\n",
        "The power is distributed using the heat equation procedure described in *Pagnier et al., IEEE Access 10, 65118 (2022)*. "
      ]
    },
    {
      "cell_type": "code",
      "metadata": {
        "jukit_cell_id": "ylbUXRutsr"
      },
      "source": [
        "# Set the seed to exactly reproduce the results of the paper (this only changes the intial values)\n",
        "seed = 1709\n",
        "sol = learn_susceptances()"
      ],
      "outputs": [],
      "execution_count": null
    },
    {
      "cell_type": "code",
      "metadata": {
        "jukit_cell_id": "iIhJj2D5Ex"
      },
      "source": [
        "save_sol(\"static.h5\", sol)"
      ],
      "outputs": [],
      "execution_count": null
    },
    {
      "cell_type": "markdown",
      "metadata": {
        "jukit_cell_id": "R1HK4ICmNK"
      },
      "source": [
        "Alternatively just load the provided solution file"
      ]
    },
    {
      "cell_type": "code",
      "metadata": {
        "jukit_cell_id": "os4STgwSKk"
      },
      "source": [
        "sol = load_sol(\"static.h5\")"
      ],
      "outputs": [],
      "execution_count": null
    },
    {
      "cell_type": "markdown",
      "metadata": {
        "jukit_cell_id": "P4RunqJsMB"
      },
      "source": [
        "We can plot the learned values using the ContGridMod functionality"
      ]
    },
    {
      "cell_type": "code",
      "metadata": {
        "jukit_cell_id": "2fjxGkqCv7"
      },
      "source": [
        "nodal_plot(sol.model, :bx, logarithmic = true, cbar_args = Dict(:label => L\"b_x\"))"
      ],
      "outputs": [],
      "execution_count": null
    },
    {
      "cell_type": "code",
      "metadata": {
        "jukit_cell_id": "aumoXjcMz6"
      },
      "source": [
        "nodal_plot(sol.model, :by, logarithmic = true, cbar_args = Dict(:label => L\"b_y\"))"
      ],
      "outputs": [],
      "execution_count": null
    },
    {
      "cell_type": "markdown",
      "metadata": {
        "jukit_cell_id": "Xoz5OZnXvx"
      },
      "source": [
        "Let's look at the trainings performance. We start by plotting the trainings error during the training."
      ]
    },
    {
      "cell_type": "code",
      "metadata": {
        "jukit_cell_id": "PxyaOoRUhC"
      },
      "source": [
        "n_epochs = size(sol.losses, 1)\n",
        "n_batch = size(sol.losses, 2)\n",
        "f = Figure()\n",
        "ax = Axis(f[1, 1], xlabel = \"Epoch\", ylabel = \"Loss\")\n",
        "x = range(1 - 1 / n_batch, n_epochs + 1 / n_batch, n_batch * n_epochs)\n",
        "y = vcat(sol.losses'...)\n",
        "lines!(ax, x, y, label = \"Batch Loss\")\n",
        "x2 = range(1, n_epochs, n_epochs)\n",
        "y2 = vcat(mean(sol.losses, dims = 2)...)\n",
        "lines!(ax, x2, y2, label = \"Epoch Loss\")\n",
        "axislegend()\n",
        "f"
      ],
      "outputs": [],
      "execution_count": null
    },
    {
      "cell_type": "markdown",
      "metadata": {
        "jukit_cell_id": "CeGqxfGHoS"
      },
      "source": [
        "Next, we plot the predicted angles vs. the ground truth"
      ]
    },
    {
      "cell_type": "code",
      "metadata": {
        "jukit_cell_id": "AxJqXoDR92"
      },
      "source": [
        "f = Figure(resolution = (1200, 3200))\n",
        "for i in 1:48\n",
        "    mi = min(minimum(sol.t_train[:, i]), minimum(sol.train_pred[:, i]))\n",
        "    ma = max(maximum(sol.t_train[:, i]), maximum(sol.train_pred[:, i]))\n",
        "    mi -= 0.05 * (ma - mi)\n",
        "    ma += 0.05 * (ma - mi)\n",
        "    ax = Axis(f[(i - 1) \u00f7 4 + 1, mod(i - 1, 4) + 1],\n",
        "        aspect = DataAspect(),\n",
        "        limits = (mi, ma, mi, ma))\n",
        "    scatter!(ax, sol.t_train[:, i], sol.train_pred[:, i], strokewidth = 1)\n",
        "    ablines!(ax, 0, 1, color = :red)\n",
        "    text!(ax,\n",
        "        0.05,\n",
        "        0.95,\n",
        "        text = @sprintf(\"Loss = %.2e\", sol.train_losses[i]),\n",
        "        space = :relative,\n",
        "        align = (:left, :top))\n",
        "end\n",
        "f[0, :] = Label(f, @sprintf(\"Mean loss = %.2e\", mean(sol.train_losses)), fontsize = 25)\n",
        "f[:, 0] = Label(f, L\"\\theta_\\mathrm{pred}\", rotation = \u03c0 / 2, fontsize = 25)\n",
        "f[13, :] = Label(f, L\"\\theta_\\mathrm{true}\", fontsize = 25)\n",
        "f"
      ],
      "outputs": [],
      "execution_count": null
    },
    {
      "cell_type": "code",
      "metadata": {
        "jukit_cell_id": "PKDoXdSWZv"
      },
      "source": [
        "f = Figure(resolution = (1200, 1700))\n",
        "for i in 1:12\n",
        "    mi = min(minimum(sol.t_test[:, i]), minimum(sol.test_pred[:, i]))\n",
        "    ma = max(maximum(sol.t_test[:, i]), maximum(sol.test_pred[:, i]))\n",
        "    mi -= 0.05 * (ma - mi)\n",
        "    ma += 0.05 * (ma - mi)\n",
        "    ax = Axis(f[(i - 1) \u00f7 3 + 1, mod(i - 1, 3) + 1],\n",
        "        aspect = DataAspect(),\n",
        "        limits = (mi, ma, mi, ma))\n",
        "    scatter!(ax, sol.t_test[:, i], sol.test_pred[:, i], strokewidth = 1)\n",
        "    ablines!(ax, 0, 1, color = :red)\n",
        "    text!(ax,\n",
        "        0.05,\n",
        "        0.95,\n",
        "        text = @sprintf(\"Loss = %.2e\", sol.test_losses[i]),\n",
        "        space = :relative,\n",
        "        align = (:left, :top))\n",
        "end\n",
        "f[0, :] = Label(f, @sprintf(\"Mean loss = %.2e\", mean(sol.test_losses)), fontsize = 25)\n",
        "f[:, 0] = Label(f, L\"\\theta_\\mathrm{pred}\", rotation = \u03c0 / 2, fontsize = 25)\n",
        "f[5, :] = Label(f, L\"\\theta_\\mathrm{true}\", fontsize = 25)\n",
        "f"
      ],
      "outputs": [],
      "execution_count": null
    },
    {
      "cell_type": "code",
      "metadata": {
        "jukit_cell_id": "OKODXCUOQK"
      },
      "source": [
        "seed = 1709\n",
        "sol = learn_dynamical_parameters(n_train = 4, n_test = 1, n_epochs = 10)"
      ],
      "outputs": [],
      "execution_count": null
    },
    {
      "cell_type": "code",
      "metadata": {
        "jukit_cell_id": "SwXoySfqxc"
      },
      "source": [
        "sol = load_sol(\"dynamic.h5\");"
      ],
      "outputs": [],
      "execution_count": null
    },
    {
      "cell_type": "code",
      "metadata": {
        "jukit_cell_id": "zzBUsOlQkr"
      },
      "source": [
        "save_sol(\"dynamic.h5\", sol)"
      ],
      "outputs": [],
      "execution_count": null
    },
    {
      "cell_type": "code",
      "metadata": {
        "jukit_cell_id": "7jjnTeOuBr"
      },
      "source": [
        "f = Figure()\n",
        "for i in 1:4\n",
        "    ax = Axis(f[(i - 1) \u00f7 2 + 1, mod(i - 1, 2) + 1])\n",
        "    lines!(ax, sol.losses[:, i])\n",
        "end\n",
        "f"
      ],
      "outputs": [],
      "execution_count": null
    },
    {
      "cell_type": "code",
      "metadata": {
        "jukit_cell_id": "yYazN8i4yN"
      },
      "source": [],
      "outputs": [],
      "execution_count": null
    }
  ],
  "metadata": {
    "anaconda-cloud": {},
    "kernelspec": {
      "display_name": "julia",
      "language": "julia",
      "name": "julia"
    }
  },
  "nbformat": 4,
  "nbformat_minor": 4
}
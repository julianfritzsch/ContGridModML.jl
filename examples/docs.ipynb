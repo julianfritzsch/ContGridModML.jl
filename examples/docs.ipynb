{
 "cells": [
  {
   "cell_type": "code",
   "execution_count": null,
   "metadata": {
    "jukit_cell_id": "07s2sdIBkZ"
   },
   "outputs": [],
   "source": [
    "using ContGridModML\n",
    "using CairoMakie\n",
    "using Statistics\n",
    "using Printf\n",
    "using LaTeXStrings"
   ]
  },
  {
   "cell_type": "markdown",
   "metadata": {
    "jukit_cell_id": "gftabiP8jA"
   },
   "source": [
    "This will learn the susceptances from the stable solutions of 48 different dispatches.\n",
    "The test set performance is calculated on 12 different dispatches.\n",
    "The power is distributed using the heat equation procedure described in *Pagnier et al., IEEE Access 10, 65118 (2022)*. "
   ]
  },
  {
   "cell_type": "code",
   "execution_count": null,
   "metadata": {
    "jukit_cell_id": "ylbUXRutsr"
   },
   "outputs": [],
   "source": [
    "# Set the seed to exactly reproduce the results of the paper (this only changes the intial values)\n",
    "sol = learn_susceptances_dates()"
   ]
  },
  {
   "cell_type": "code",
   "execution_count": null,
   "metadata": {
    "jukit_cell_id": "iIhJj2D5Ex"
   },
   "outputs": [],
   "source": [
    "save_sol(\"static.h5\", sol)"
   ]
  },
  {
   "cell_type": "markdown",
   "metadata": {
    "jukit_cell_id": "R1HK4ICmNK"
   },
   "source": [
    "Alternatively just load the provided solution file"
   ]
  },
  {
   "cell_type": "code",
   "execution_count": null,
   "metadata": {
    "jukit_cell_id": "os4STgwSKk"
   },
   "outputs": [],
   "source": [
    "sol = load_sol(\"static.h5\");"
   ]
  },
  {
   "cell_type": "markdown",
   "metadata": {
    "jukit_cell_id": "P4RunqJsMB"
   },
   "source": [
    "We can plot the learned values using the ContGridModML functionality"
   ]
  },
  {
   "cell_type": "code",
   "execution_count": null,
   "metadata": {},
   "outputs": [],
   "source": [
    "nodal_plot(sol.model, :bx, logarithmic = false, cbar_args = Dict(:label => L\"b_x\"))"
   ]
  },
  {
   "cell_type": "code",
   "execution_count": null,
   "metadata": {},
   "outputs": [],
   "source": [
    "nodal_plot(sol.model, :by, logarithmic = false, cbar_args = Dict(:label => L\"b_y\"))"
   ]
  },
  {
   "cell_type": "markdown",
   "metadata": {
    "jukit_cell_id": "Xoz5OZnXvx"
   },
   "source": [
    "Let's look at the trainings performance. We start by plotting the trainings error during the training."
   ]
  },
  {
   "cell_type": "code",
   "execution_count": null,
   "metadata": {
    "jukit_cell_id": "PxyaOoRUhC"
   },
   "outputs": [],
   "source": [
    "n_epochs = size(sol.losses, 1)\n",
    "n_batch = size(sol.losses, 2)\n",
    "f = Figure()\n",
    "ax = Axis(f[1, 1], xlabel = \"Epoch\", ylabel = \"Loss\")\n",
    "x = range(1 - 1 / n_batch, n_epochs + 1 / n_batch, n_batch * n_epochs)\n",
    "y = vcat(sol.losses'...)\n",
    "lines!(ax, x, y, label = \"Batch Loss\")\n",
    "x2 = range(1, n_epochs, n_epochs)\n",
    "y2 = vcat(mean(sol.losses, dims = 2)...)\n",
    "lines!(ax, x2, y2, label = \"Epoch Loss\")\n",
    "axislegend()\n",
    "f"
   ]
  },
  {
   "cell_type": "markdown",
   "metadata": {
    "jukit_cell_id": "CeGqxfGHoS"
   },
   "source": [
    "Next, we plot the predicted angles vs. the ground truth"
   ]
  },
  {
   "cell_type": "code",
   "execution_count": null,
   "metadata": {
    "jukit_cell_id": "AxJqXoDR92"
   },
   "outputs": [],
   "source": [
    "f = Figure(resolution = (1200, 3200))\n",
    "for i in 1:48\n",
    "    mi = min(minimum(sol.t_train[:, i]), minimum(sol.train_pred[:, i]))\n",
    "    ma = max(maximum(sol.t_train[:, i]), maximum(sol.train_pred[:, i]))\n",
    "    mi -= 0.05 * (ma - mi)\n",
    "    ma += 0.05 * (ma - mi)\n",
    "    ax = Axis(f[(i - 1) ÷ 4 + 1, mod(i - 1, 4) + 1],\n",
    "        aspect = DataAspect(),\n",
    "        limits = (mi, ma, mi, ma))\n",
    "    scatter!(ax, sol.t_train[:, i], sol.train_pred[:, i], strokewidth = 1)\n",
    "    ablines!(ax, 0, 1, color = :red)\n",
    "    text!(ax,\n",
    "        0.05,\n",
    "        0.95,\n",
    "        text = @sprintf(\"Loss = %.2e\", sol.train_losses[i]),\n",
    "        space = :relative,\n",
    "        align = (:left, :top))\n",
    "end\n",
    "f[0, :] = Label(f, @sprintf(\"Mean loss = %.2e\", mean(sol.train_losses)), fontsize = 25)\n",
    "f[:, 0] = Label(f, L\"\\theta_\\mathrm{pred}\", rotation = π / 2, fontsize = 25)\n",
    "f[13, :] = Label(f, L\"\\theta_\\mathrm{true}\", fontsize = 25)\n",
    "f"
   ]
  },
  {
   "cell_type": "code",
   "execution_count": null,
   "metadata": {
    "jukit_cell_id": "PKDoXdSWZv"
   },
   "outputs": [],
   "source": [
    "f = Figure(resolution = (1200, 1700))\n",
    "for i in 1:12\n",
    "    mi = min(minimum(sol.t_test[:, i]), minimum(sol.test_pred[:, i]))\n",
    "    ma = max(maximum(sol.t_test[:, i]), maximum(sol.test_pred[:, i]))\n",
    "    mi -= 0.05 * (ma - mi)\n",
    "    ma += 0.05 * (ma - mi)\n",
    "    ax = Axis(f[(i - 1) ÷ 3 + 1, mod(i - 1, 3) + 1],\n",
    "        aspect = DataAspect(),\n",
    "        limits = (mi, ma, mi, ma))\n",
    "    scatter!(ax, sol.t_test[:, i], sol.test_pred[:, i], strokewidth = 1)\n",
    "    ablines!(ax, 0, 1, color = :red)\n",
    "    text!(ax,\n",
    "        0.05,\n",
    "        0.95,\n",
    "        text = @sprintf(\"Loss = %.2e\", sol.test_losses[i]),\n",
    "        space = :relative,\n",
    "        align = (:left, :top))\n",
    "end\n",
    "f[0, :] = Label(f, @sprintf(\"Mean loss = %.2e\", mean(sol.test_losses)), fontsize = 25)\n",
    "f[:, 0] = Label(f, L\"\\theta_\\mathrm{pred}\", rotation = π / 2, fontsize = 25)\n",
    "f[5, :] = Label(f, L\"\\theta_\\mathrm{true}\", fontsize = 25)\n",
    "f"
   ]
  },
  {
   "cell_type": "code",
   "execution_count": null,
   "metadata": {
    "jukit_cell_id": "OKODXCUOQK"
   },
   "outputs": [],
   "source": [
    "seed = 1709\n",
    "sol = learn_dynamical_parameters(n_train = 4, n_test = 1, n_epochs = 10)"
   ]
  },
  {
   "cell_type": "code",
   "execution_count": null,
   "metadata": {
    "jukit_cell_id": "SwXoySfqxc"
   },
   "outputs": [],
   "source": [
    "sol = load_sol(\"dynamic.h5\");"
   ]
  },
  {
   "cell_type": "code",
   "execution_count": null,
   "metadata": {
    "jukit_cell_id": "zzBUsOlQkr"
   },
   "outputs": [],
   "source": [
    "save_sol(\"dynamic.h5\", sol)"
   ]
  },
  {
   "cell_type": "code",
   "execution_count": null,
   "metadata": {
    "jukit_cell_id": "7jjnTeOuBr"
   },
   "outputs": [],
   "source": [
    "f = Figure()\n",
    "for i in 1:4\n",
    "    ax = Axis(f[(i - 1) ÷ 2 + 1, mod(i - 1, 2) + 1])\n",
    "    lines!(ax, sol.losses[:, i])\n",
    "end\n",
    "f"
   ]
  },
  {
   "cell_type": "code",
   "execution_count": null,
   "metadata": {
    "jukit_cell_id": "yYazN8i4yN"
   },
   "outputs": [],
   "source": []
  }
 ],
 "metadata": {
  "anaconda-cloud": {},
  "kernelspec": {
   "display_name": "Julia 1.9.2",
   "language": "julia",
   "name": "julia-1.9"
  },
  "language_info": {
   "file_extension": ".jl",
   "mimetype": "application/julia",
   "name": "julia",
   "version": "1.9.2"
  }
 },
 "nbformat": 4,
 "nbformat_minor": 4
}
